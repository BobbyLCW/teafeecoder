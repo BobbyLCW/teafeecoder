{
 "cells": [
  {
   "cell_type": "code",
   "execution_count": 1,
   "id": "9c857e38",
   "metadata": {},
   "outputs": [],
   "source": [
    "import pandas as pd\n",
    "import numpy as np\n",
    "import os\n",
    "import cv2"
   ]
  },
  {
   "cell_type": "code",
   "execution_count": 2,
   "id": "b8382e01",
   "metadata": {},
   "outputs": [
    {
     "name": "stdout",
     "output_type": "stream",
     "text": [
      "<class 'pandas.core.frame.DataFrame'>\n",
      "RangeIndex: 23705 entries, 0 to 23704\n",
      "Data columns (total 5 columns):\n",
      " #   Column     Non-Null Count  Dtype \n",
      "---  ------     --------------  ----- \n",
      " 0   age        23705 non-null  int64 \n",
      " 1   ethnicity  23705 non-null  int64 \n",
      " 2   gender     23705 non-null  int64 \n",
      " 3   img_name   23705 non-null  object\n",
      " 4   pixels     23705 non-null  object\n",
      "dtypes: int64(3), object(2)\n",
      "memory usage: 926.1+ KB\n",
      "None\n"
     ]
    }
   ],
   "source": [
    "df = pd.read_csv('age_gender.csv')\n",
    "\n",
    "print(df.info())"
   ]
  },
  {
   "cell_type": "code",
   "execution_count": 3,
   "id": "eed988bf",
   "metadata": {},
   "outputs": [],
   "source": [
    "ethnicityMap = {0:'white', 1:'black', 2:'asian', 3:'indian', 4:'others'}\n",
    "genderMap = {0:'male', 1:'female'}"
   ]
  },
  {
   "cell_type": "code",
   "execution_count": 4,
   "id": "4582512a",
   "metadata": {},
   "outputs": [
    {
     "name": "stdout",
     "output_type": "stream",
     "text": [
      "{'male': 12391, 'female': 11314}\n",
      "white   10078\n",
      "black   4526\n",
      "asian   3434\n",
      "indian   3975\n",
      "others   1692\n"
     ]
    }
   ],
   "source": [
    "def extractSingleRow(row):\n",
    "    age = row['age']\n",
    "    ethnicity = row['ethnicity']\n",
    "    gender = row['gender']\n",
    "    imgname = row['img_name']\n",
    "    img = np.array(row['pixels'].split(), 'uint8')\n",
    "    img = img.reshape(48,48,1)\n",
    "    \n",
    "    return img, age, ethnicity, gender, imgname.replace(\".jpg.chip.jpg\", \".jpg\")\n",
    "\n",
    "gender_distribution = {'male':0, 'female':0}\n",
    "ethnicity_distribution = {'white':[], 'black':[], 'asian':[], 'indian':[], 'others':[]}\n",
    "\n",
    "for i in range(len(df)):\n",
    "    img, age, eth, gender, imgname = extractSingleRow(df.iloc[i])\n",
    "    saveimgname = ethnicityMap[eth] + \"_\" + genderMap[gender] + \"_\" + str(age) + \"_\" + imgname\n",
    "    ethnicity_distribution[ethnicityMap[eth]].append((img, saveimgname))\n",
    "    gender_distribution[genderMap[gender]] += 1\n",
    "    \n",
    "print(gender_distribution)\n",
    "for k in ethnicity_distribution:\n",
    "    print(k, \" \", len(ethnicity_distribution[k]))\n",
    "    "
   ]
  },
  {
   "cell_type": "code",
   "execution_count": 6,
   "id": "9672f2be",
   "metadata": {},
   "outputs": [
    {
     "ename": "TypeError",
     "evalue": "join() argument must be str, bytes, or os.PathLike object, not 'tuple'",
     "output_type": "error",
     "traceback": [
      "\u001b[1;31m---------------------------------------------------------------------------\u001b[0m",
      "\u001b[1;31mTypeError\u001b[0m                                 Traceback (most recent call last)",
      "\u001b[1;32m<ipython-input-6-b9b64a4357f4>\u001b[0m in \u001b[0;36m<module>\u001b[1;34m\u001b[0m\n\u001b[0;32m     19\u001b[0m     \u001b[0mtrainSet\u001b[0m \u001b[1;33m=\u001b[0m \u001b[0mdataset\u001b[0m\u001b[1;33m[\u001b[0m\u001b[0mFifthteenP\u001b[0m \u001b[1;33m+\u001b[0m \u001b[0mFifthteenP\u001b[0m\u001b[1;33m:\u001b[0m\u001b[1;33m]\u001b[0m\u001b[1;33m\u001b[0m\u001b[1;33m\u001b[0m\u001b[0m\n\u001b[0;32m     20\u001b[0m \u001b[1;33m\u001b[0m\u001b[0m\n\u001b[1;32m---> 21\u001b[1;33m     \u001b[0msave_img_dir\u001b[0m\u001b[1;33m(\u001b[0m\u001b[0mtestSet\u001b[0m\u001b[1;33m,\u001b[0m \u001b[0mtest_dir\u001b[0m\u001b[1;33m)\u001b[0m\u001b[1;33m\u001b[0m\u001b[1;33m\u001b[0m\u001b[0m\n\u001b[0m\u001b[0;32m     22\u001b[0m     \u001b[0msave_img_dir\u001b[0m\u001b[1;33m(\u001b[0m\u001b[0mvalidationSet\u001b[0m\u001b[1;33m,\u001b[0m \u001b[0mvalid_dir\u001b[0m\u001b[1;33m)\u001b[0m\u001b[1;33m\u001b[0m\u001b[1;33m\u001b[0m\u001b[0m\n\u001b[0;32m     23\u001b[0m     \u001b[0msave_img_dir\u001b[0m\u001b[1;33m(\u001b[0m\u001b[0mtrainSet\u001b[0m\u001b[1;33m,\u001b[0m \u001b[0mtrain_dir\u001b[0m\u001b[1;33m)\u001b[0m\u001b[1;33m\u001b[0m\u001b[1;33m\u001b[0m\u001b[0m\n",
      "\u001b[1;32m<ipython-input-6-b9b64a4357f4>\u001b[0m in \u001b[0;36msave_img_dir\u001b[1;34m(img_list, saveDir)\u001b[0m\n\u001b[0;32m      8\u001b[0m \u001b[1;32mdef\u001b[0m \u001b[0msave_img_dir\u001b[0m\u001b[1;33m(\u001b[0m\u001b[0mimg_list\u001b[0m\u001b[1;33m,\u001b[0m \u001b[0msaveDir\u001b[0m\u001b[1;33m)\u001b[0m\u001b[1;33m:\u001b[0m\u001b[1;33m\u001b[0m\u001b[1;33m\u001b[0m\u001b[0m\n\u001b[0;32m      9\u001b[0m     \u001b[1;32mfor\u001b[0m \u001b[0midx\u001b[0m\u001b[1;33m,\u001b[0m \u001b[0mcontent\u001b[0m \u001b[1;32min\u001b[0m \u001b[0menumerate\u001b[0m\u001b[1;33m(\u001b[0m\u001b[0mimg_list\u001b[0m\u001b[1;33m)\u001b[0m\u001b[1;33m:\u001b[0m\u001b[1;33m\u001b[0m\u001b[1;33m\u001b[0m\u001b[0m\n\u001b[1;32m---> 10\u001b[1;33m         \u001b[0mcv2\u001b[0m\u001b[1;33m.\u001b[0m\u001b[0mimwrite\u001b[0m\u001b[1;33m(\u001b[0m\u001b[0mos\u001b[0m\u001b[1;33m.\u001b[0m\u001b[0mpath\u001b[0m\u001b[1;33m.\u001b[0m\u001b[0mjoin\u001b[0m\u001b[1;33m(\u001b[0m\u001b[0msaveDir\u001b[0m\u001b[1;33m,\u001b[0m \u001b[0mimg_list\u001b[0m\u001b[1;33m[\u001b[0m\u001b[1;36m1\u001b[0m\u001b[1;33m]\u001b[0m\u001b[1;33m)\u001b[0m\u001b[1;33m,\u001b[0m \u001b[0mimg_list\u001b[0m\u001b[1;33m[\u001b[0m\u001b[1;36m0\u001b[0m\u001b[1;33m]\u001b[0m\u001b[1;33m)\u001b[0m\u001b[1;33m\u001b[0m\u001b[1;33m\u001b[0m\u001b[0m\n\u001b[0m\u001b[0;32m     11\u001b[0m \u001b[1;33m\u001b[0m\u001b[0m\n\u001b[0;32m     12\u001b[0m \u001b[1;33m\u001b[0m\u001b[0m\n",
      "\u001b[1;32m~\\miniconda3\\envs\\a_g_e\\lib\\ntpath.py\u001b[0m in \u001b[0;36mjoin\u001b[1;34m(path, *paths)\u001b[0m\n\u001b[0;32m    115\u001b[0m         \u001b[1;32mreturn\u001b[0m \u001b[0mresult_drive\u001b[0m \u001b[1;33m+\u001b[0m \u001b[0mresult_path\u001b[0m\u001b[1;33m\u001b[0m\u001b[1;33m\u001b[0m\u001b[0m\n\u001b[0;32m    116\u001b[0m     \u001b[1;32mexcept\u001b[0m \u001b[1;33m(\u001b[0m\u001b[0mTypeError\u001b[0m\u001b[1;33m,\u001b[0m \u001b[0mAttributeError\u001b[0m\u001b[1;33m,\u001b[0m \u001b[0mBytesWarning\u001b[0m\u001b[1;33m)\u001b[0m\u001b[1;33m:\u001b[0m\u001b[1;33m\u001b[0m\u001b[1;33m\u001b[0m\u001b[0m\n\u001b[1;32m--> 117\u001b[1;33m         \u001b[0mgenericpath\u001b[0m\u001b[1;33m.\u001b[0m\u001b[0m_check_arg_types\u001b[0m\u001b[1;33m(\u001b[0m\u001b[1;34m'join'\u001b[0m\u001b[1;33m,\u001b[0m \u001b[0mpath\u001b[0m\u001b[1;33m,\u001b[0m \u001b[1;33m*\u001b[0m\u001b[0mpaths\u001b[0m\u001b[1;33m)\u001b[0m\u001b[1;33m\u001b[0m\u001b[1;33m\u001b[0m\u001b[0m\n\u001b[0m\u001b[0;32m    118\u001b[0m         \u001b[1;32mraise\u001b[0m\u001b[1;33m\u001b[0m\u001b[1;33m\u001b[0m\u001b[0m\n\u001b[0;32m    119\u001b[0m \u001b[1;33m\u001b[0m\u001b[0m\n",
      "\u001b[1;32m~\\miniconda3\\envs\\a_g_e\\lib\\genericpath.py\u001b[0m in \u001b[0;36m_check_arg_types\u001b[1;34m(funcname, *args)\u001b[0m\n\u001b[0;32m    150\u001b[0m             \u001b[0mhasbytes\u001b[0m \u001b[1;33m=\u001b[0m \u001b[1;32mTrue\u001b[0m\u001b[1;33m\u001b[0m\u001b[1;33m\u001b[0m\u001b[0m\n\u001b[0;32m    151\u001b[0m         \u001b[1;32melse\u001b[0m\u001b[1;33m:\u001b[0m\u001b[1;33m\u001b[0m\u001b[1;33m\u001b[0m\u001b[0m\n\u001b[1;32m--> 152\u001b[1;33m             raise TypeError(f'{funcname}() argument must be str, bytes, or '\n\u001b[0m\u001b[0;32m    153\u001b[0m                             f'os.PathLike object, not {s.__class__.__name__!r}') from None\n\u001b[0;32m    154\u001b[0m     \u001b[1;32mif\u001b[0m \u001b[0mhasstr\u001b[0m \u001b[1;32mand\u001b[0m \u001b[0mhasbytes\u001b[0m\u001b[1;33m:\u001b[0m\u001b[1;33m\u001b[0m\u001b[1;33m\u001b[0m\u001b[0m\n",
      "\u001b[1;31mTypeError\u001b[0m: join() argument must be str, bytes, or os.PathLike object, not 'tuple'"
     ]
    }
   ],
   "source": [
    "import math\n",
    "import random\n",
    "save_dir = r'C:\\Users\\mfbob\\OneDrive\\Desktop\\age_gender_eth'\n",
    "train_dir = os.path.join(save_dir, 'train')\n",
    "test_dir = os.path.join(save_dir, 'test')\n",
    "valid_dir = os.path.join(save_dir, 'validation')\n",
    "\n",
    "def save_img_dir(img_list, saveDir):\n",
    "    for idx, content in enumerate(img_list):\n",
    "        cv2.imwrite(os.path.join(saveDir, content[1]), content[0])\n",
    "        \n",
    "        \n",
    "for kdx, eth_content in enumerate(ethnicity_distribution):\n",
    "    dataset = ethnicity_distribution[eth_content]\n",
    "    random.shuffle(dataset)\n",
    "    FifthteenP = math.floor(len(dataset) * 0.15)\n",
    "    testSet = dataset[:FifthteenP]\n",
    "    validationSet = dataset[FifthteenP: FifthteenP + FifthteenP]\n",
    "    trainSet = dataset[FifthteenP + FifthteenP:]\n",
    "    \n",
    "    save_img_dir(testSet, test_dir)\n",
    "    save_img_dir(validationSet, valid_dir)\n",
    "    save_img_dir(trainSet, train_dir)\n",
    "        "
   ]
  },
  {
   "cell_type": "code",
   "execution_count": null,
   "id": "03f9e337",
   "metadata": {},
   "outputs": [],
   "source": []
  }
 ],
 "metadata": {
  "kernelspec": {
   "display_name": "Python 3",
   "language": "python",
   "name": "python3"
  },
  "language_info": {
   "codemirror_mode": {
    "name": "ipython",
    "version": 3
   },
   "file_extension": ".py",
   "mimetype": "text/x-python",
   "name": "python",
   "nbconvert_exporter": "python",
   "pygments_lexer": "ipython3",
   "version": "3.8.8"
  }
 },
 "nbformat": 4,
 "nbformat_minor": 5
}
