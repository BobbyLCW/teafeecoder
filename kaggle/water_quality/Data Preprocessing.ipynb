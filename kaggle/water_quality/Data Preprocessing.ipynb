{
 "cells": [
  {
   "cell_type": "code",
   "execution_count": 1,
   "id": "c78a9d8e",
   "metadata": {},
   "outputs": [],
   "source": [
    "import pandas as pd\n",
    "import numpy as np"
   ]
  },
  {
   "cell_type": "code",
   "execution_count": 2,
   "id": "6a213656",
   "metadata": {},
   "outputs": [
    {
     "name": "stdout",
     "output_type": "stream",
     "text": [
      "<class 'pandas.core.frame.DataFrame'>\n",
      "RangeIndex: 3276 entries, 0 to 3275\n",
      "Data columns (total 10 columns):\n",
      " #   Column           Non-Null Count  Dtype  \n",
      "---  ------           --------------  -----  \n",
      " 0   ph               2785 non-null   float64\n",
      " 1   Hardness         3276 non-null   float64\n",
      " 2   Solids           3276 non-null   float64\n",
      " 3   Chloramines      3276 non-null   float64\n",
      " 4   Sulfate          2495 non-null   float64\n",
      " 5   Conductivity     3276 non-null   float64\n",
      " 6   Organic_carbon   3276 non-null   float64\n",
      " 7   Trihalomethanes  3114 non-null   float64\n",
      " 8   Turbidity        3276 non-null   float64\n",
      " 9   Potability       3276 non-null   int64  \n",
      "dtypes: float64(9), int64(1)\n",
      "memory usage: 256.1 KB\n",
      "None\n",
      "<class 'pandas.core.frame.DataFrame'>\n",
      "RangeIndex: 3276 entries, 0 to 3275\n",
      "Data columns (total 10 columns):\n",
      " #   Column           Non-Null Count  Dtype  \n",
      "---  ------           --------------  -----  \n",
      " 0   ph               2785 non-null   float64\n",
      " 1   Hardness         3276 non-null   float64\n",
      " 2   Solids           3276 non-null   float64\n",
      " 3   Chloramines      3276 non-null   float64\n",
      " 4   Sulfate          2495 non-null   float64\n",
      " 5   Conductivity     3276 non-null   float64\n",
      " 6   Organic_carbon   3276 non-null   float64\n",
      " 7   Trihalomethanes  3114 non-null   float64\n",
      " 8   Turbidity        3276 non-null   float64\n",
      " 9   Potability       3276 non-null   int64  \n",
      "dtypes: float64(9), int64(1)\n",
      "memory usage: 256.1 KB\n",
      "None\n"
     ]
    }
   ],
   "source": [
    "df1 = pd.read_csv('water_potability.csv')\n",
    "df2 = pd.read_csv('water_potability.csv')\n",
    "\n",
    "print(df1.info())\n",
    "print(df2.info())"
   ]
  },
  {
   "cell_type": "code",
   "execution_count": 3,
   "id": "62666a50",
   "metadata": {},
   "outputs": [
    {
     "name": "stdout",
     "output_type": "stream",
     "text": [
      "<class 'pandas.core.frame.DataFrame'>\n",
      "RangeIndex: 3276 entries, 0 to 3275\n",
      "Data columns (total 10 columns):\n",
      " #   Column           Non-Null Count  Dtype  \n",
      "---  ------           --------------  -----  \n",
      " 0   ph               2785 non-null   float64\n",
      " 1   Hardness         3276 non-null   float64\n",
      " 2   Solids           3276 non-null   float64\n",
      " 3   Chloramines      3276 non-null   float64\n",
      " 4   Sulfate          2495 non-null   float64\n",
      " 5   Conductivity     3276 non-null   float64\n",
      " 6   Organic_carbon   3276 non-null   float64\n",
      " 7   Trihalomethanes  3276 non-null   float64\n",
      " 8   Turbidity        3276 non-null   float64\n",
      " 9   Potability       3276 non-null   int64  \n",
      "dtypes: float64(9), int64(1)\n",
      "memory usage: 256.1 KB\n",
      "None\n",
      "<class 'pandas.core.frame.DataFrame'>\n",
      "RangeIndex: 3276 entries, 0 to 3275\n",
      "Data columns (total 10 columns):\n",
      " #   Column           Non-Null Count  Dtype  \n",
      "---  ------           --------------  -----  \n",
      " 0   ph               2785 non-null   float64\n",
      " 1   Hardness         3276 non-null   float64\n",
      " 2   Solids           3276 non-null   float64\n",
      " 3   Chloramines      3276 non-null   float64\n",
      " 4   Sulfate          2495 non-null   float64\n",
      " 5   Conductivity     3276 non-null   float64\n",
      " 6   Organic_carbon   3276 non-null   float64\n",
      " 7   Trihalomethanes  3276 non-null   float64\n",
      " 8   Turbidity        3276 non-null   float64\n",
      " 9   Potability       3276 non-null   int64  \n",
      "dtypes: float64(9), int64(1)\n",
      "memory usage: 256.1 KB\n",
      "None\n"
     ]
    }
   ],
   "source": [
    "df1['Trihalomethanes'] = df1['Trihalomethanes'].fillna(df1['Trihalomethanes'].mean())\n",
    "df2['Trihalomethanes'] = df2['Trihalomethanes'].fillna(df2['Trihalomethanes'].mean())\n",
    "\n",
    "print(df1.info())\n",
    "print(df2.info())"
   ]
  },
  {
   "cell_type": "code",
   "execution_count": 4,
   "id": "e2a1b414",
   "metadata": {},
   "outputs": [
    {
     "name": "stdout",
     "output_type": "stream",
     "text": [
      "<class 'pandas.core.frame.DataFrame'>\n",
      "Int64Index: 2116 entries, 3 to 3271\n",
      "Data columns (total 10 columns):\n",
      " #   Column           Non-Null Count  Dtype  \n",
      "---  ------           --------------  -----  \n",
      " 0   ph               2116 non-null   float64\n",
      " 1   Hardness         2116 non-null   float64\n",
      " 2   Solids           2116 non-null   float64\n",
      " 3   Chloramines      2116 non-null   float64\n",
      " 4   Sulfate          2116 non-null   float64\n",
      " 5   Conductivity     2116 non-null   float64\n",
      " 6   Organic_carbon   2116 non-null   float64\n",
      " 7   Trihalomethanes  2116 non-null   float64\n",
      " 8   Turbidity        2116 non-null   float64\n",
      " 9   Potability       2116 non-null   int64  \n",
      "dtypes: float64(9), int64(1)\n",
      "memory usage: 181.8 KB\n",
      "None\n",
      "<class 'pandas.core.frame.DataFrame'>\n",
      "Int64Index: 2116 entries, 3 to 3271\n",
      "Data columns (total 10 columns):\n",
      " #   Column           Non-Null Count  Dtype  \n",
      "---  ------           --------------  -----  \n",
      " 0   ph               2116 non-null   float64\n",
      " 1   Hardness         2116 non-null   float64\n",
      " 2   Solids           2116 non-null   float64\n",
      " 3   Chloramines      2116 non-null   float64\n",
      " 4   Sulfate          2116 non-null   float64\n",
      " 5   Conductivity     2116 non-null   float64\n",
      " 6   Organic_carbon   2116 non-null   float64\n",
      " 7   Trihalomethanes  2116 non-null   float64\n",
      " 8   Turbidity        2116 non-null   float64\n",
      " 9   Potability       2116 non-null   int64  \n",
      "dtypes: float64(9), int64(1)\n",
      "memory usage: 181.8 KB\n",
      "None\n"
     ]
    }
   ],
   "source": [
    "df1 = df1.dropna(subset=['ph', 'Sulfate'])\n",
    "df2 = df2.dropna(subset=['ph', 'Sulfate'])\n",
    "\n",
    "print(df1.info())\n",
    "print(df2.info())"
   ]
  },
  {
   "cell_type": "code",
   "execution_count": 5,
   "id": "d911da8f",
   "metadata": {},
   "outputs": [
    {
     "name": "stdout",
     "output_type": "stream",
     "text": [
      "0    1269\n",
      "1     847\n",
      "Name: Potability, dtype: int64\n"
     ]
    }
   ],
   "source": [
    "print(df1['Potability'].value_counts())"
   ]
  },
  {
   "cell_type": "code",
   "execution_count": 6,
   "id": "10d23f15",
   "metadata": {},
   "outputs": [
    {
     "name": "stdout",
     "output_type": "stream",
     "text": [
      "0    1269\n",
      "1    1269\n",
      "Name: Potability, dtype: int64\n",
      "0    1269\n",
      "1    1269\n",
      "Name: Potability, dtype: int64\n"
     ]
    }
   ],
   "source": [
    "from imblearn.over_sampling import SMOTE\n",
    "\n",
    "X1 = df1.loc[:, df1.columns != 'Potability']\n",
    "Y1 = df1.Potability\n",
    "X2 = df2.loc[:, df2.columns != 'Potability']\n",
    "Y2 = df2.Potability\n",
    "\n",
    "smote = SMOTE(k_neighbors=3, random_state=1234)\n",
    "resam_X1,resam_Y1 = smote.fit_resample(X1, Y1)\n",
    "resam_X2,resam_Y2 = smote.fit_resample(X2, Y2)\n",
    "\n",
    "df1 = pd.concat([pd.DataFrame(resam_X1), pd.DataFrame(resam_Y1)], axis=1)\n",
    "df2 = pd.concat([pd.DataFrame(resam_X2), pd.DataFrame(resam_Y2)], axis=1)\n",
    "\n",
    "print(df1['Potability'].value_counts())\n",
    "print(df2['Potability'].value_counts())"
   ]
  },
  {
   "cell_type": "code",
   "execution_count": 7,
   "id": "b7065017",
   "metadata": {},
   "outputs": [
    {
     "name": "stdout",
     "output_type": "stream",
     "text": [
      "count    2538.000000\n",
      "mean        7.107611\n",
      "std         1.537785\n",
      "min         0.227499\n",
      "25%         6.153401\n",
      "50%         7.059403\n",
      "75%         8.027921\n",
      "max        14.000000\n",
      "Name: ph, dtype: float64\n",
      "count    2538.000000\n",
      "mean        0.843972\n",
      "std         0.693518\n",
      "min         0.000000\n",
      "25%         0.000000\n",
      "50%         1.000000\n",
      "75%         1.000000\n",
      "max         2.000000\n",
      "Name: ph, dtype: float64\n"
     ]
    }
   ],
   "source": [
    "# ph\n",
    "# value < 6.5 is acidic\n",
    "# value >= 6.5 and value <= 8.5 is neutral\n",
    "# value > 8.5 is alkaline\n",
    "\n",
    "print(df1['ph'].describe())\n",
    "\n",
    "df1['ph'] = np.where((df1.ph < 6.5), 0.0, df1.ph)\n",
    "df1['ph'] = np.where((df1.ph >= 6.5) & (df1.ph <= 8.5), 1.0, df1.ph)\n",
    "df1['ph'] = np.where((df1.ph > 8.5), 2.0, df1.ph)\n",
    "\n",
    "print(df1['ph'].describe())"
   ]
  },
  {
   "cell_type": "code",
   "execution_count": 8,
   "id": "1a1fe8cb",
   "metadata": {},
   "outputs": [
    {
     "name": "stdout",
     "output_type": "stream",
     "text": [
      "count    2538.000000\n",
      "mean        2.700158\n",
      "std         0.494678\n",
      "min         0.000000\n",
      "25%         2.000000\n",
      "50%         3.000000\n",
      "75%         3.000000\n",
      "max         3.000000\n",
      "Name: Hardness, dtype: float64\n"
     ]
    }
   ],
   "source": [
    "# Hardness\n",
    "# value <= 60 is soft (0)\n",
    "# value 61- 120 is moderate (1)\n",
    "# value 121 - 180 is hard (2)\n",
    "# value value >= 181 is very hard (3)\n",
    "df1['Hardness'] = np.where((df1.Hardness <= 60), 0.0, df1.Hardness)\n",
    "df1['Hardness'] = np.where((df1.Hardness > 60) & (df1.Hardness <= 120), 1.0, df1.Hardness)\n",
    "df1['Hardness'] = np.where((df1.Hardness > 120) & (df1.Hardness <= 180), 2.0, df1.Hardness)\n",
    "df1['Hardness'] = np.where((df1.Hardness > 180), 3.0, df1.Hardness)\n",
    "\n",
    "print(df1['Hardness'].describe())"
   ]
  },
  {
   "cell_type": "code",
   "execution_count": 9,
   "id": "9ab05d40",
   "metadata": {},
   "outputs": [
    {
     "name": "stdout",
     "output_type": "stream",
     "text": [
      "count     2538.000000\n",
      "mean     22050.223266\n",
      "std       8687.577565\n",
      "min        320.942611\n",
      "25%      15740.895528\n",
      "50%      20977.964208\n",
      "75%      27378.419624\n",
      "max      56488.672413\n",
      "Name: Solids, dtype: float64\n"
     ]
    }
   ],
   "source": [
    "print(df1['Solids'].describe())"
   ]
  },
  {
   "cell_type": "code",
   "execution_count": 10,
   "id": "243ab32d",
   "metadata": {},
   "outputs": [
    {
     "name": "stdout",
     "output_type": "stream",
     "text": [
      "count    2538.000000\n",
      "mean        0.973207\n",
      "std         0.161509\n",
      "min         0.000000\n",
      "25%         1.000000\n",
      "50%         1.000000\n",
      "75%         1.000000\n",
      "max         1.000000\n",
      "Name: Chloramines, dtype: float64\n"
     ]
    }
   ],
   "source": [
    "# Chloramines\n",
    "# value <= 4.0 is safe (0)\n",
    "# value > 4.0  is unsafe (1)\n",
    "\n",
    "df1['Chloramines'] = np.where((df1.Chloramines <= 4.0), 0.0, df1.Chloramines)\n",
    "df1['Chloramines'] = np.where((df1.Chloramines > 4.0), 1.0, df1.Chloramines)\n",
    "print(df1['Chloramines'].describe())"
   ]
  },
  {
   "cell_type": "code",
   "execution_count": 11,
   "id": "cf201329",
   "metadata": {},
   "outputs": [
    {
     "name": "stdout",
     "output_type": "stream",
     "text": [
      "count    2538.000000\n",
      "mean      333.143793\n",
      "std        40.710937\n",
      "min       129.000000\n",
      "25%       307.674220\n",
      "50%       332.751774\n",
      "75%       359.031416\n",
      "max       481.030642\n",
      "Name: Sulfate, dtype: float64\n"
     ]
    }
   ],
   "source": [
    "# Sulfate\n",
    "print(df1['Sulfate'].describe())"
   ]
  },
  {
   "cell_type": "code",
   "execution_count": 12,
   "id": "2d084baa",
   "metadata": {},
   "outputs": [
    {
     "name": "stdout",
     "output_type": "stream",
     "text": [
      "count    2538.000000\n",
      "mean        0.606383\n",
      "std         0.488648\n",
      "min         0.000000\n",
      "25%         0.000000\n",
      "50%         1.000000\n",
      "75%         1.000000\n",
      "max         1.000000\n",
      "Name: Conductivity, dtype: float64\n"
     ]
    }
   ],
   "source": [
    "# Conductivity\n",
    "# value <= 400 is safe (0)\n",
    "# value > 400 is unsafe (1)\n",
    "\n",
    "df1['Conductivity'] = np.where((df1.Conductivity <= 400), 0.0, df1.Conductivity)\n",
    "df1['Conductivity'] = np.where((df1.Conductivity > 400), 1.0, df1.Conductivity)\n",
    "\n",
    "print(df1['Conductivity'].describe())"
   ]
  },
  {
   "cell_type": "code",
   "execution_count": 13,
   "id": "d72ed7f7",
   "metadata": {},
   "outputs": [
    {
     "name": "stdout",
     "output_type": "stream",
     "text": [
      "count    2538.00000\n",
      "mean        0.99803\n",
      "std         0.04435\n",
      "min         0.00000\n",
      "25%         1.00000\n",
      "50%         1.00000\n",
      "75%         1.00000\n",
      "max         1.00000\n",
      "Name: Organic_carbon, dtype: float64\n"
     ]
    }
   ],
   "source": [
    "# Organic_carbon\n",
    "# value <= 5.0 is safe (0)\n",
    "# value > 5.0 is unsafe (1)\n",
    "\n",
    "df1['Organic_carbon'] = np.where((df1.Organic_carbon <= 5.0), 0.0, df1.Organic_carbon)\n",
    "df1['Organic_carbon'] = np.where((df1.Organic_carbon > 5.0), 1.0, df1.Organic_carbon)\n",
    "\n",
    "print(df1['Organic_carbon'].describe())"
   ]
  },
  {
   "cell_type": "code",
   "execution_count": 14,
   "id": "2151da37",
   "metadata": {},
   "outputs": [
    {
     "name": "stdout",
     "output_type": "stream",
     "text": [
      "count    2538.000000\n",
      "mean        0.173759\n",
      "std         0.378977\n",
      "min         0.000000\n",
      "25%         0.000000\n",
      "50%         0.000000\n",
      "75%         0.000000\n",
      "max         1.000000\n",
      "Name: Trihalomethanes, dtype: float64\n"
     ]
    }
   ],
   "source": [
    "# Trihalomethanes\n",
    "# value <= 80 is safe (0)\n",
    "# value > 80 is unsafe (1)\n",
    "\n",
    "df1['Trihalomethanes'] = np.where((df1.Trihalomethanes <= 80), 0.0, df1.Trihalomethanes)\n",
    "df1['Trihalomethanes'] = np.where((df1.Trihalomethanes > 80), 1.0, df1.Trihalomethanes)\n",
    "\n",
    "print(df1['Trihalomethanes'].describe())"
   ]
  },
  {
   "cell_type": "code",
   "execution_count": 15,
   "id": "09cb5e7b",
   "metadata": {},
   "outputs": [
    {
     "name": "stdout",
     "output_type": "stream",
     "text": [
      "count    2538.000000\n",
      "mean        0.088652\n",
      "std         0.284297\n",
      "min         0.000000\n",
      "25%         0.000000\n",
      "50%         0.000000\n",
      "75%         0.000000\n",
      "max         1.000000\n",
      "Name: Turbidity, dtype: float64\n"
     ]
    }
   ],
   "source": [
    "# Turbidity\n",
    "# value <= 5.0 is safe (0)\n",
    "# value > 5.0 is unsafe (1)\n",
    "\n",
    "df1['Turbidity'] = np.where((df1.Turbidity <= 5.0), 0.0, df1.Turbidity)\n",
    "df1['Turbidity'] = np.where((df1.Turbidity > 5.0), 1.0, df1.Turbidity)\n",
    "\n",
    "print(df1['Turbidity'].describe())"
   ]
  },
  {
   "cell_type": "code",
   "execution_count": 16,
   "id": "1c6881f2",
   "metadata": {},
   "outputs": [
    {
     "name": "stdout",
     "output_type": "stream",
     "text": [
      "features ph, max value 2.0, min value 0.0\n",
      "features Hardness, max value 3.0, min value 0.0\n",
      "features Solids, max value 56488.67241273919, min value 320.942611274359\n",
      "features Chloramines, max value 1.0, min value 0.0\n",
      "features Sulfate, max value 481.0306423059972, min value 129.00000000000003\n",
      "features Conductivity, max value 1.0, min value 0.0\n",
      "features Organic_carbon, max value 1.0, min value 0.0\n",
      "features Trihalomethanes, max value 1.0, min value 0.0\n",
      "features Turbidity, max value 1.0, min value 0.0\n",
      "features ph, max value 13.999999999999998, min value 0.2274990502021987\n",
      "features Hardness, max value 317.33812405558257, min value 47.432\n",
      "features Solids, max value 56488.67241273919, min value 320.942611274359\n",
      "features Chloramines, max value 13.127000000000002, min value 1.3908709048851806\n",
      "features Sulfate, max value 481.0306423059972, min value 129.00000000000003\n",
      "features Conductivity, max value 753.3426195583046, min value 201.6197367551575\n",
      "features Organic_carbon, max value 27.00670661116601, min value 2.1999999999999886\n",
      "features Trihalomethanes, max value 124.0, min value 8.577012932983806\n",
      "features Turbidity, max value 6.494748555990993, min value 1.45\n",
      "    ph  Hardness    Solids  Chloramines   Sulfate  Conductivity  \\\n",
      "0  0.5       1.0  0.386298          1.0  0.647347           0.0   \n",
      "1  1.0       1.0  0.314381          1.0  0.514545           0.0   \n",
      "2  0.0       1.0  0.506122          1.0  0.561537           0.0   \n",
      "3  1.0       1.0  0.506141          1.0  0.751819           0.0   \n",
      "4  1.0       1.0  0.237701          1.0  0.495155           1.0   \n",
      "\n",
      "   Organic_carbon  Trihalomethanes  Turbidity  Potability  \n",
      "0             1.0              1.0        0.0           0  \n",
      "1             1.0              0.0        0.0           0  \n",
      "2             1.0              0.0        0.0           0  \n",
      "3             1.0              1.0        0.0           0  \n",
      "4             1.0              0.0        0.0           0  \n",
      "\n",
      "         ph  Hardness    Solids  Chloramines   Sulfate  Conductivity  \\\n",
      "0  0.587349  0.618517  0.386298     0.568199  0.647347      0.292985   \n",
      "1  0.643654  0.495244  0.314381     0.439304  0.514545      0.356685   \n",
      "2  0.388934  0.521964  0.506122     0.524364  0.561537      0.142913   \n",
      "3  0.725820  0.743369  0.506141     0.521683  0.751819      0.148683   \n",
      "4  0.610517  0.577718  0.237701     0.270288  0.495155      0.494792   \n",
      "\n",
      "   Organic_carbon  Trihalomethanes  Turbidity  Potability  \n",
      "0        0.654522         0.795029   0.630115           0  \n",
      "1        0.377248         0.202914   0.520358           0  \n",
      "2        0.249922         0.401487   0.219973           0  \n",
      "3        0.467200         0.658678   0.242428           0  \n",
      "4        0.409721         0.469762   0.585049           0  \n"
     ]
    }
   ],
   "source": [
    "\n",
    "def normalize_df(df):\n",
    "    out = df.copy()\n",
    "    for features in df.columns:\n",
    "        if features != 'Potability':\n",
    "            max_value = df[features].max()\n",
    "            min_value = df[features].min()\n",
    "            print(\"features {}, max value {}, min value {}\".format(features, max_value, min_value))\n",
    "            out[features] = (df[features] - min_value) / (max_value - min_value)\n",
    "            \n",
    "    return out\n",
    "\n",
    "df1 = normalize_df(df1)\n",
    "df2 = normalize_df(df2)\n",
    "\n",
    "print(df1.head(5))\n",
    "print()\n",
    "print(df2.head(5))"
   ]
  },
  {
   "cell_type": "code",
   "execution_count": 17,
   "id": "140c586a",
   "metadata": {},
   "outputs": [],
   "source": [
    "df1.to_csv('water_quality_categorized.csv', index=False)\n",
    "df2.to_csv('water_quality_normalized.csv', index=False)"
   ]
  },
  {
   "cell_type": "code",
   "execution_count": null,
   "id": "15e03636",
   "metadata": {},
   "outputs": [],
   "source": []
  }
 ],
 "metadata": {
  "kernelspec": {
   "display_name": "Python 3",
   "language": "python",
   "name": "python3"
  },
  "language_info": {
   "codemirror_mode": {
    "name": "ipython",
    "version": 3
   },
   "file_extension": ".py",
   "mimetype": "text/x-python",
   "name": "python",
   "nbconvert_exporter": "python",
   "pygments_lexer": "ipython3",
   "version": "3.8.8"
  }
 },
 "nbformat": 4,
 "nbformat_minor": 5
}
