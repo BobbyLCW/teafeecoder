{
 "cells": [
  {
   "cell_type": "code",
   "execution_count": 1,
   "id": "5e526fa8",
   "metadata": {},
   "outputs": [],
   "source": [
    "import pandas as pd\n",
    "import numpy as np"
   ]
  },
  {
   "cell_type": "code",
   "execution_count": 2,
   "id": "fb754a7e",
   "metadata": {},
   "outputs": [
    {
     "name": "stdout",
     "output_type": "stream",
     "text": [
      "<class 'pandas.core.frame.DataFrame'>\n",
      "RangeIndex: 2538 entries, 0 to 2537\n",
      "Data columns (total 10 columns):\n",
      " #   Column           Non-Null Count  Dtype  \n",
      "---  ------           --------------  -----  \n",
      " 0   ph               2538 non-null   float64\n",
      " 1   Hardness         2538 non-null   float64\n",
      " 2   Solids           2538 non-null   float64\n",
      " 3   Chloramines      2538 non-null   float64\n",
      " 4   Sulfate          2538 non-null   float64\n",
      " 5   Conductivity     2538 non-null   float64\n",
      " 6   Organic_carbon   2538 non-null   float64\n",
      " 7   Trihalomethanes  2538 non-null   float64\n",
      " 8   Turbidity        2538 non-null   float64\n",
      " 9   Potability       2538 non-null   int64  \n",
      "dtypes: float64(9), int64(1)\n",
      "memory usage: 198.4 KB\n",
      "None\n",
      "<class 'pandas.core.frame.DataFrame'>\n",
      "RangeIndex: 2538 entries, 0 to 2537\n",
      "Data columns (total 10 columns):\n",
      " #   Column           Non-Null Count  Dtype  \n",
      "---  ------           --------------  -----  \n",
      " 0   ph               2538 non-null   float64\n",
      " 1   Hardness         2538 non-null   float64\n",
      " 2   Solids           2538 non-null   float64\n",
      " 3   Chloramines      2538 non-null   float64\n",
      " 4   Sulfate          2538 non-null   float64\n",
      " 5   Conductivity     2538 non-null   float64\n",
      " 6   Organic_carbon   2538 non-null   float64\n",
      " 7   Trihalomethanes  2538 non-null   float64\n",
      " 8   Turbidity        2538 non-null   float64\n",
      " 9   Potability       2538 non-null   int64  \n",
      "dtypes: float64(9), int64(1)\n",
      "memory usage: 198.4 KB\n",
      "None\n"
     ]
    }
   ],
   "source": [
    "df1 = pd.read_csv('water_quality_categorized.csv')\n",
    "df2 = pd.read_csv('water_quality_normalized.csv')\n",
    "\n",
    "print(df1.info())\n",
    "print(df2.info())"
   ]
  },
  {
   "cell_type": "code",
   "execution_count": 3,
   "id": "dfc43099",
   "metadata": {},
   "outputs": [],
   "source": [
    "df1_features = df1.loc[:, df1.columns != 'Potability']\n",
    "df1_label = df1.Potability\n",
    "\n",
    "df2_features = df2.loc[:, df2.columns != 'Potability']\n",
    "df2_label = df2.Potability"
   ]
  },
  {
   "cell_type": "code",
   "execution_count": 4,
   "id": "28faeb36",
   "metadata": {},
   "outputs": [],
   "source": [
    "from sklearn.model_selection import train_test_split\n",
    "\n",
    "df1_train_X, df1_test_X, df1_train_Y, df1_test_Y = train_test_split(df1_features, df1_label, test_size=0.2, random_state=1234)\n",
    "df2_train_X, df2_test_X, df2_train_Y, df2_test_Y = train_test_split(df2_features, df2_label, test_size=0.2, random_state=1234)"
   ]
  },
  {
   "cell_type": "code",
   "execution_count": 5,
   "id": "7eb425a6",
   "metadata": {},
   "outputs": [
    {
     "name": "stdout",
     "output_type": "stream",
     "text": [
      "Confusion matrix for categorized: [[161 105]\n",
      " [ 92 150]]\n",
      "Accuracy : 0.6122047244094488, precision : 0.5882352941176471, recall : 0.6198347107438017\n",
      "\n",
      "Confusion matrix for uncategorized: [[165 101]\n",
      " [ 87 155]]\n",
      "Accuracy : 0.6299212598425197, precision : 0.5882352941176471, recall : 0.6198347107438017\n"
     ]
    }
   ],
   "source": [
    "from sklearn.tree import DecisionTreeClassifier\n",
    "from sklearn import metrics\n",
    "\n",
    "DCT_1 = DecisionTreeClassifier() # categorized\n",
    "DCT_1.fit(df1_train_X, df1_train_Y)\n",
    "\n",
    "DCT_2 = DecisionTreeClassifier() # uncategorized\n",
    "DCT_2.fit(df2_train_X, df2_train_Y)\n",
    "\n",
    "DCT1_results = DCT_1.predict(df1_test_X)\n",
    "DCT2_results = DCT_2.predict(df2_test_X)\n",
    "\n",
    "cfm_1 = metrics.confusion_matrix(df1_test_Y, DCT1_results)\n",
    "cfm_2 = metrics.confusion_matrix(df2_test_Y, DCT2_results)\n",
    "\n",
    "accuracy_1 = metrics.accuracy_score(df1_test_Y, DCT1_results)\n",
    "accuracy_2 = metrics.accuracy_score(df2_test_Y, DCT2_results)\n",
    "\n",
    "precision_1 = metrics.precision_score(df1_test_Y, DCT1_results)\n",
    "precision_2  = metrics.precision_score(df1_test_Y, DCT1_results)\n",
    "\n",
    "recall_1 = metrics.recall_score(df1_test_Y, DCT1_results)\n",
    "recall_2 = metrics.recall_score(df1_test_Y, DCT1_results)\n",
    "\n",
    "print(\"Confusion matrix for categorized: {}\".format(cfm_1))\n",
    "print(\"Accuracy : {}, precision : {}, recall : {}\".format(accuracy_1, precision_1, recall_1))\n",
    "print()\n",
    "print(\"Confusion matrix for uncategorized: {}\".format(cfm_2))\n",
    "print(\"Accuracy : {}, precision : {}, recall : {}\".format(accuracy_2, precision_2, recall_2))"
   ]
  },
  {
   "cell_type": "code",
   "execution_count": 7,
   "id": "0ea5db5a",
   "metadata": {},
   "outputs": [
    {
     "name": "stdout",
     "output_type": "stream",
     "text": [
      "Confusion matrix for categorized: [[169  97]\n",
      " [ 86 156]]\n",
      "Accuracy : 0.639763779527559, precision : 0.616600790513834, recall : 0.6446280991735537\n",
      "\n",
      "Confusion matrix for uncategorized: [[185  81]\n",
      " [ 67 175]]\n",
      "Accuracy : 0.7086614173228346, precision : 0.68359375, recall : 0.7231404958677686\n"
     ]
    }
   ],
   "source": [
    "from sklearn.ensemble import RandomForestClassifier\n",
    "\n",
    "RFC_1 = RandomForestClassifier() # categorized\n",
    "RFC_1.fit(df1_train_X, df1_train_Y)\n",
    "\n",
    "RFC_2 = RandomForestClassifier() # uncategorized\n",
    "RFC_2.fit(df2_train_X, df2_train_Y)\n",
    "\n",
    "RFC1_results = RFC_1.predict(df1_test_X)\n",
    "RFC2_results = RFC_2.predict(df2_test_X)\n",
    "\n",
    "cfm_1_RFC = metrics.confusion_matrix(df1_test_Y, RFC1_results)\n",
    "cfm_2_RFC = metrics.confusion_matrix(df2_test_Y, RFC2_results)\n",
    "\n",
    "accuracy1_RFC = metrics.accuracy_score(df1_test_Y, RFC1_results)\n",
    "accuracy2_RFC = metrics.accuracy_score(df2_test_Y, RFC2_results)\n",
    "\n",
    "precision1_RFC = metrics.precision_score(df1_test_Y, RFC1_results)\n",
    "precision2_RFC = metrics.precision_score(df2_test_Y, RFC2_results)\n",
    "\n",
    "recall1_RFC = metrics.recall_score(df1_test_Y, RFC1_results)\n",
    "recall2_RFC = metrics.recall_score(df2_test_Y, RFC2_results)\n",
    "\n",
    "print(\"Confusion matrix for categorized: {}\".format(cfm_1_RFC))\n",
    "print(\"Accuracy : {}, precision : {}, recall : {}\".format(accuracy1_RFC, precision1_RFC, recall1_RFC))\n",
    "print()\n",
    "print(\"Confusion matrix for uncategorized: {}\".format(cfm_2_RFC))\n",
    "print(\"Accuracy : {}, precision : {}, recall : {}\".format(accuracy2_RFC, precision2_RFC, recall2_RFC))"
   ]
  },
  {
   "cell_type": "code",
   "execution_count": 9,
   "id": "618cfc41",
   "metadata": {},
   "outputs": [
    {
     "name": "stdout",
     "output_type": "stream",
     "text": [
      "Confusion matrix for categorized: [[163 103]\n",
      " [ 84 158]]\n",
      "Accuracy : 0.6318897637795275, precision : 0.6053639846743295, recall : 0.6528925619834711\n",
      "\n",
      "Confusion matrix for uncategorized: [[163 103]\n",
      " [ 84 158]]\n",
      "Accuracy : 0.6496062992125984, precision : 0.6203007518796992, recall : 0.6818181818181818\n"
     ]
    }
   ],
   "source": [
    "from sklearn.ensemble import GradientBoostingClassifier\n",
    "\n",
    "GBC1 = GradientBoostingClassifier() # categorized\n",
    "GBC1.fit(df1_train_X, df1_train_Y)\n",
    "\n",
    "GBC2 = GradientBoostingClassifier()  # uncategorized\n",
    "GBC2.fit(df2_train_X, df2_train_Y)\n",
    "\n",
    "GBC1_results = GBC1.predict(df1_test_X)\n",
    "GBC2_results = GBC2.predict(df2_test_X)\n",
    "\n",
    "cfm1_GBC = metrics.confusion_matrix(df1_test_Y, GBC1_results)\n",
    "cfm2_GBC = metrics.confusion_matrix(df1_test_Y, GBC1_results)\n",
    "\n",
    "accuracy1_GBC = metrics.accuracy_score(df1_test_Y, GBC1_results) \n",
    "accuracy2_GBC = metrics.accuracy_score(df2_test_Y, GBC2_results)\n",
    "\n",
    "precision1_GBC = metrics.precision_score(df1_test_Y, GBC1_results)\n",
    "precision2_GBC = metrics.precision_score(df2_test_Y, GBC2_results)\n",
    "\n",
    "recall1_GBC = metrics.recall_score(df1_test_Y, GBC1_results)\n",
    "recall2_GBC = metrics.recall_score(df2_test_Y, GBC2_results)\n",
    "\n",
    "print(\"Confusion matrix for categorized: {}\".format(cfm1_GBC))\n",
    "print(\"Accuracy : {}, precision : {}, recall : {}\".format(accuracy1_GBC, precision1_GBC, recall1_GBC))\n",
    "print()\n",
    "print(\"Confusion matrix for uncategorized: {}\".format(cfm2_GBC))\n",
    "print(\"Accuracy : {}, precision : {}, recall : {}\".format(accuracy2_GBC, precision2_GBC, recall2_GBC))"
   ]
  },
  {
   "cell_type": "code",
   "execution_count": 10,
   "id": "cfa494aa",
   "metadata": {},
   "outputs": [],
   "source": [
    "import pickle\n",
    "\n",
    "model_name = 'water_quality_best_model.pkl'\n",
    "pickle.dump(RFC_2, open(model_name, 'wb'))"
   ]
  },
  {
   "cell_type": "code",
   "execution_count": 12,
   "id": "a370abe2",
   "metadata": {},
   "outputs": [
    {
     "name": "stdout",
     "output_type": "stream",
     "text": [
      "0.7086614173228346\n"
     ]
    }
   ],
   "source": [
    "load_model = pickle.load(open(model_name, 'rb'))\n",
    "test_result = load_model.score(df2_test_X, df2_test_Y)\n",
    "print(test_result)"
   ]
  },
  {
   "cell_type": "code",
   "execution_count": null,
   "id": "e4f66c3e",
   "metadata": {},
   "outputs": [],
   "source": []
  }
 ],
 "metadata": {
  "kernelspec": {
   "display_name": "Python 3",
   "language": "python",
   "name": "python3"
  },
  "language_info": {
   "codemirror_mode": {
    "name": "ipython",
    "version": 3
   },
   "file_extension": ".py",
   "mimetype": "text/x-python",
   "name": "python",
   "nbconvert_exporter": "python",
   "pygments_lexer": "ipython3",
   "version": "3.8.8"
  }
 },
 "nbformat": 4,
 "nbformat_minor": 5
}
